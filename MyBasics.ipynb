{
  "nbformat": 4,
  "nbformat_minor": 0,
  "metadata": {
    "colab": {
      "provenance": [],
      "authorship_tag": "ABX9TyMc+N+ki4Yu4+02Y0NtZPUq",
      "include_colab_link": true
    },
    "kernelspec": {
      "name": "python3",
      "display_name": "Python 3"
    },
    "language_info": {
      "name": "python"
    }
  },
  "cells": [
    {
      "cell_type": "markdown",
      "metadata": {
        "id": "view-in-github",
        "colab_type": "text"
      },
      "source": [
        "<a href=\"https://colab.research.google.com/github/sankarramamurthy/Python-Practice/blob/master/MyBasics.ipynb\" target=\"_parent\"><img src=\"https://colab.research.google.com/assets/colab-badge.svg\" alt=\"Open In Colab\"/></a>"
      ]
    },
    {
      "cell_type": "markdown",
      "source": [
        "# Introduction\n",
        "This is Sankar's notebook for learning the basics of Python.\n",
        "Ref: https://www.youtube.com/watch?v=K5KVEU3aaeQ&t=3974s"
      ],
      "metadata": {
        "id": "3Ji-uoCbEulQ"
      }
    },
    {
      "cell_type": "code",
      "execution_count": null,
      "metadata": {
        "colab": {
          "base_uri": "https://localhost:8080/"
        },
        "id": "uD9H0cSIEO3U",
        "outputId": "d1276f23-58bd-49b0-9406-8f3621a49e59"
      },
      "outputs": [
        {
          "output_type": "stream",
          "name": "stdout",
          "text": [
            "Hello World!\n"
          ]
        }
      ],
      "source": [
        "print(\"Hello World!\")"
      ]
    },
    {
      "cell_type": "markdown",
      "source": [
        "# Expressions"
      ],
      "metadata": {
        "id": "S_3qSYG_Dpxg"
      }
    },
    {
      "cell_type": "code",
      "source": [
        "#Expressions\n",
        "20 + 30"
      ],
      "metadata": {
        "colab": {
          "base_uri": "https://localhost:8080/"
        },
        "id": "SH9RwF76DSKP",
        "outputId": "98197a7a-ca2e-4342-cef8-9d98397250df"
      },
      "execution_count": null,
      "outputs": [
        {
          "output_type": "execute_result",
          "data": {
            "text/plain": [
              "50"
            ]
          },
          "metadata": {},
          "execution_count": 5
        }
      ]
    },
    {
      "cell_type": "code",
      "source": [
        "\"*\" * 50"
      ],
      "metadata": {
        "colab": {
          "base_uri": "https://localhost:8080/",
          "height": 35
        },
        "id": "dbdazPNpDijk",
        "outputId": "5ac17097-54e7-4239-cc55-81c980919666"
      },
      "execution_count": null,
      "outputs": [
        {
          "output_type": "execute_result",
          "data": {
            "text/plain": [
              "'**************************************************'"
            ],
            "application/vnd.google.colaboratory.intrinsic+json": {
              "type": "string"
            }
          },
          "metadata": {},
          "execution_count": 6
        }
      ]
    },
    {
      "cell_type": "markdown",
      "source": [
        "# Variables and Types"
      ],
      "metadata": {
        "id": "n3Qx6IRqD9fs"
      }
    },
    {
      "cell_type": "code",
      "source": [
        "#It is a best practice to use lower case for variables; use _ to separate two parts of a variable name\n",
        "#Integer getting assigned to a variable\n",
        "students_count = 1000\n",
        "\n",
        "#Float getting assigned to a variable\n",
        "rating = 4.99\n",
        "\n",
        "#Boolean getting assigned to a variable\n",
        "is_published = True\n",
        "\n",
        "#String getting assigned to a variable\n",
        "course_name = \"Python Programming\"\n",
        "\n",
        "#Usage of triple quotes\n",
        "message = \"\"\"\n",
        "Hi John,\n",
        "\n",
        "Hello, how are you?\n",
        "blah blah blah.....\n",
        "\n",
        "Thanks\n",
        "\"\"\""
      ],
      "metadata": {
        "id": "da5pt_5xCRJd"
      },
      "execution_count": null,
      "outputs": []
    },
    {
      "cell_type": "markdown",
      "source": [
        "# String Functions"
      ],
      "metadata": {
        "id": "_USADNopFlUN"
      }
    },
    {
      "cell_type": "code",
      "source": [
        "print(len(course_name))\n",
        "print(course_name[0])\n",
        "print(course_name[-1])\n",
        "print(course_name[0:3])"
      ],
      "metadata": {
        "colab": {
          "base_uri": "https://localhost:8080/"
        },
        "id": "PqUScUmtFji9",
        "outputId": "6e813162-ea16-4a01-8d1c-6976bc059046"
      },
      "execution_count": null,
      "outputs": [
        {
          "output_type": "stream",
          "name": "stdout",
          "text": [
            "18\n",
            "P\n",
            "g\n",
            "Pyt\n"
          ]
        }
      ]
    },
    {
      "cell_type": "code",
      "source": [
        "#If you want to include a double quote within a string, you should use a back-slash or escape character\n",
        "course = \"Basic \\\"Python\\\" Programming\"\n",
        "print(course)\n",
        "# \\\" is called an escape sequence. Another example of an escape sequence is \\\\ i.e. if you want a string that contains a back slash\n",
        "# another eg of an escape sequence is \\n which will insert a new line"
      ],
      "metadata": {
        "colab": {
          "base_uri": "https://localhost:8080/"
        },
        "id": "vv-ba_LXHLsF",
        "outputId": "f0b26865-736d-4744-e3ce-87d8a3521cce"
      },
      "execution_count": null,
      "outputs": [
        {
          "output_type": "stream",
          "name": "stdout",
          "text": [
            "Basic \"Python\" Programming\n"
          ]
        }
      ]
    },
    {
      "cell_type": "code",
      "source": [
        "first = \"Sankar\"\n",
        "last = \"Ramamurthy\"\n",
        "full = first + \" \" + last\n",
        "print(full)\n",
        "print(full.upper())\n",
        "# strip method trims the spaces at the begining and end of a string. Alternatively there is lstrip and rstrip methods\n",
        "# replace method replaces the specific portion of the string with another string\n",
        "print(full.replace(\"Sankar\", \"Ganesh\"))"
      ],
      "metadata": {
        "colab": {
          "base_uri": "https://localhost:8080/"
        },
        "id": "7YrG_AVQ7nLi",
        "outputId": "b85431ee-e6c0-40e1-c30a-eb4808535103"
      },
      "execution_count": null,
      "outputs": [
        {
          "output_type": "stream",
          "name": "stdout",
          "text": [
            "Sankar Ramamurthy\n",
            "SANKAR RAMAMURTHY\n",
            "Ganesh Ramamurthy\n"
          ]
        }
      ]
    },
    {
      "cell_type": "markdown",
      "source": [
        "# Numbers"
      ],
      "metadata": {
        "id": "BKq0ZicG987_"
      }
    },
    {
      "cell_type": "code",
      "source": [
        "# Integers, Floats\n",
        "# Arithematic operators\n",
        "x = 20\n",
        "y = 30\n",
        "z = x + y\n",
        "print(\"The sum of \" + str(x) + \" and \" + str(y) + \" is \" + str(z))\n",
        "\n",
        "print(10 / 3)\n",
        "print(10 // 3)\n",
        "print(10 % 3) #modulus\n",
        "print(10 ** 3) #exponent\n",
        "\n",
        "#Augmented assignment operator\n",
        "x = 10\n",
        "x += 3 # is same as x = x+3"
      ],
      "metadata": {
        "colab": {
          "base_uri": "https://localhost:8080/"
        },
        "id": "nOJalAVSFsNI",
        "outputId": "23e50156-75fc-4d1d-dc5d-f27306ecee70"
      },
      "execution_count": null,
      "outputs": [
        {
          "output_type": "stream",
          "name": "stdout",
          "text": [
            "The sum of 20 and 30 is 50\n",
            "3.3333333333333335\n",
            "3\n",
            "1\n",
            "1000\n"
          ]
        }
      ]
    },
    {
      "cell_type": "code",
      "source": [
        "# Useful numeric functions\n",
        "print(round(2.9))\n",
        "print(abs(-2.9))"
      ],
      "metadata": {
        "colab": {
          "base_uri": "https://localhost:8080/"
        },
        "id": "coQjHQrA_jSu",
        "outputId": "2d1e81bd-1670-450c-db47-aa5ff3400211"
      },
      "execution_count": null,
      "outputs": [
        {
          "output_type": "stream",
          "name": "stdout",
          "text": [
            "3\n",
            "2.9\n"
          ]
        }
      ]
    },
    {
      "cell_type": "code",
      "source": [
        "# Using mathematical modules for performing complex functions\n",
        "import math\n",
        "print(math.ceil(2.2))\n",
        "#math module has several useful mathematical methods"
      ],
      "metadata": {
        "colab": {
          "base_uri": "https://localhost:8080/"
        },
        "id": "4ijKXR42_4cC",
        "outputId": "a52b5e39-f693-4bc9-a961-027d5a05584a"
      },
      "execution_count": null,
      "outputs": [
        {
          "output_type": "stream",
          "name": "stdout",
          "text": [
            "3\n"
          ]
        }
      ]
    },
    {
      "cell_type": "code",
      "source": [
        "# Take user input\n",
        "inp = input(\"x: \")\n",
        "print(type(inp))\n",
        "outp = int(inp) + 10 #using Type conversion to convert from string to int before adding\n",
        "print(outp)"
      ],
      "metadata": {
        "colab": {
          "base_uri": "https://localhost:8080/"
        },
        "id": "84_UnCcwJUfy",
        "outputId": "2ce32d07-3a71-408d-d968-04c4c6eb0ffd"
      },
      "execution_count": null,
      "outputs": [
        {
          "output_type": "stream",
          "name": "stdout",
          "text": [
            "x: 20\n",
            "<class 'str'>\n",
            "30\n"
          ]
        }
      ]
    },
    {
      "cell_type": "markdown",
      "source": [
        "# Comparison Operators"
      ],
      "metadata": {
        "id": "QeoV8k9SXi0z"
      }
    },
    {
      "cell_type": "code",
      "source": [
        "10 > 3"
      ],
      "metadata": {
        "colab": {
          "base_uri": "https://localhost:8080/"
        },
        "id": "5QbssJVOXoui",
        "outputId": "ce17905a-74cd-4deb-e354-cd735ca6e472"
      },
      "execution_count": 1,
      "outputs": [
        {
          "output_type": "execute_result",
          "data": {
            "text/plain": [
              "True"
            ]
          },
          "metadata": {},
          "execution_count": 1
        }
      ]
    },
    {
      "cell_type": "code",
      "source": [
        "10 >= 3"
      ],
      "metadata": {
        "colab": {
          "base_uri": "https://localhost:8080/"
        },
        "id": "kGjjt0ubXuAD",
        "outputId": "f703e9d0-bde0-43b7-c8ba-c893397e5e0e"
      },
      "execution_count": 2,
      "outputs": [
        {
          "output_type": "execute_result",
          "data": {
            "text/plain": [
              "True"
            ]
          },
          "metadata": {},
          "execution_count": 2
        }
      ]
    },
    {
      "cell_type": "code",
      "source": [
        "10 == 10"
      ],
      "metadata": {
        "colab": {
          "base_uri": "https://localhost:8080/"
        },
        "id": "chJ0k8iKX0-O",
        "outputId": "523471e5-98c6-4104-a8f4-0c6bad3a8c1f"
      },
      "execution_count": 3,
      "outputs": [
        {
          "output_type": "execute_result",
          "data": {
            "text/plain": [
              "True"
            ]
          },
          "metadata": {},
          "execution_count": 3
        }
      ]
    },
    {
      "cell_type": "code",
      "source": [
        "10 != 5"
      ],
      "metadata": {
        "colab": {
          "base_uri": "https://localhost:8080/"
        },
        "id": "WSBNfvEpX73U",
        "outputId": "fc831e15-9507-4b63-ebbb-a6a7047d9148"
      },
      "execution_count": 4,
      "outputs": [
        {
          "output_type": "execute_result",
          "data": {
            "text/plain": [
              "True"
            ]
          },
          "metadata": {},
          "execution_count": 4
        }
      ]
    },
    {
      "cell_type": "code",
      "source": [
        "\"apple\" > \"Orange\""
      ],
      "metadata": {
        "colab": {
          "base_uri": "https://localhost:8080/"
        },
        "id": "DP248JyeYKZz",
        "outputId": "fafa0654-0b9c-4e32-84f5-4f24a30a4469"
      },
      "execution_count": 5,
      "outputs": [
        {
          "output_type": "execute_result",
          "data": {
            "text/plain": [
              "True"
            ]
          },
          "metadata": {},
          "execution_count": 5
        }
      ]
    },
    {
      "cell_type": "markdown",
      "source": [
        "# Conditional Statements"
      ],
      "metadata": {
        "id": "iChAz0njYf5W"
      }
    },
    {
      "cell_type": "code",
      "source": [
        "temperature = 35\n",
        "if temperature > 30:\n",
        "  print(\"It is warm\")\n",
        "  print(\"Drink more water\")\n",
        "elif temperature > 20:\n",
        "  print(\"It's nice\")\n",
        "else:\n",
        "  print(\"It is cold\")\n",
        "print(\"Done\")"
      ],
      "metadata": {
        "colab": {
          "base_uri": "https://localhost:8080/"
        },
        "id": "RQ6-2rhhYi6W",
        "outputId": "0eb61222-c9fb-4c73-bf15-c73b06d23a6c"
      },
      "execution_count": 7,
      "outputs": [
        {
          "output_type": "stream",
          "name": "stdout",
          "text": [
            "It is warm\n",
            "Drink more water\n",
            "Done\n"
          ]
        }
      ]
    },
    {
      "cell_type": "code",
      "source": [
        "age = 22\n",
        "if age >= 18:\n",
        "  message = \"Eligible\"\n",
        "else:\n",
        "  message = \"Not Eligible\"\n",
        "print(message)"
      ],
      "metadata": {
        "colab": {
          "base_uri": "https://localhost:8080/"
        },
        "id": "HEOYqqYiaUcW",
        "outputId": "81ea483e-dfe9-4c27-dbf7-26be710c4ac3"
      },
      "execution_count": 8,
      "outputs": [
        {
          "output_type": "stream",
          "name": "stdout",
          "text": [
            "Eligible\n"
          ]
        }
      ]
    },
    {
      "cell_type": "code",
      "source": [
        "age = 22\n",
        "message = \"Eligible\" if age >= 18 else \"Not Eligible\"\n",
        "print(message)"
      ],
      "metadata": {
        "colab": {
          "base_uri": "https://localhost:8080/"
        },
        "id": "lqUNVTRMa0nl",
        "outputId": "fd92ecdf-8f79-4b3a-bc12-b0704be8295f"
      },
      "execution_count": 9,
      "outputs": [
        {
          "output_type": "stream",
          "name": "stdout",
          "text": [
            "Eligible\n"
          ]
        }
      ]
    },
    {
      "cell_type": "markdown",
      "source": [
        "There are 3 logical operators in Python - and, or, not"
      ],
      "metadata": {
        "id": "A9jsT6l4bNim"
      }
    },
    {
      "cell_type": "code",
      "source": [
        "high_income = True\n",
        "good_credit = True\n",
        "student = False\n",
        "\n",
        "if (high_income and good_credit) and not student:\n",
        "  print(\"Eligible\")\n",
        "else:\n",
        "  print(\"Not eligible\")"
      ],
      "metadata": {
        "colab": {
          "base_uri": "https://localhost:8080/"
        },
        "id": "jwO6rksebsQn",
        "outputId": "1ba6342b-e605-47c2-828e-24853193b4d2"
      },
      "execution_count": 11,
      "outputs": [
        {
          "output_type": "stream",
          "name": "stdout",
          "text": [
            "Eligible\n"
          ]
        }
      ]
    },
    {
      "cell_type": "code",
      "source": [
        "#Chaining comparison operators\n",
        "# age should be between 18 and 65\n",
        "age = 22\n",
        "if 18 <= age < 65: #same as writing - if age >= 18 and age < 65\n",
        "  print(\"Eligible\")"
      ],
      "metadata": {
        "colab": {
          "base_uri": "https://localhost:8080/"
        },
        "id": "OpyOhFWRXP-B",
        "outputId": "06416402-7bb8-4825-ed29-885e02d47b89"
      },
      "execution_count": 1,
      "outputs": [
        {
          "output_type": "stream",
          "name": "stdout",
          "text": [
            "Eligible\n"
          ]
        }
      ]
    },
    {
      "cell_type": "code",
      "source": [
        "# For loop\n",
        "for number in range(3):\n",
        "  print(\"Attempt\", number + 1, (number + 1) * \".\")\n",
        "\n",
        "# cleaner code\n",
        "for number in range(1, 4):\n",
        "  print(\"Attempt\", number, number * \".\")\n",
        "\n",
        "# adding a step parameter to the range method\n",
        "for number in range(1, 10, 2):\n",
        "  print(\"Attempt\", number, number * \".\")"
      ],
      "metadata": {
        "colab": {
          "base_uri": "https://localhost:8080/"
        },
        "id": "mMOy9BVLaqFR",
        "outputId": "86331fb4-b03d-4584-ed1e-962ba5fd44f7"
      },
      "execution_count": 7,
      "outputs": [
        {
          "output_type": "stream",
          "name": "stdout",
          "text": [
            "Attempt 1 .\n",
            "Attempt 2 ..\n",
            "Attempt 3 ...\n",
            "Attempt 1 .\n",
            "Attempt 2 ..\n",
            "Attempt 3 ...\n",
            "Attempt 1 .\n",
            "Attempt 3 ...\n",
            "Attempt 5 .....\n",
            "Attempt 7 .......\n",
            "Attempt 9 .........\n"
          ]
        }
      ]
    },
    {
      "cell_type": "code",
      "source": [
        "# Exiting from the For loop based on condition\n",
        "successful = True\n",
        "for number in range(1, 4):\n",
        "  print(\"Attempt\", number, number * \".\")\n",
        "  if successful:\n",
        "    print(\"Successful\")\n",
        "    break"
      ],
      "metadata": {
        "colab": {
          "base_uri": "https://localhost:8080/"
        },
        "id": "FpUoNV7Mck9b",
        "outputId": "3e2588d8-9b81-4789-92bd-cf9922e25230"
      },
      "execution_count": 8,
      "outputs": [
        {
          "output_type": "stream",
          "name": "stdout",
          "text": [
            "Attempt 1 .\n",
            "Successful\n"
          ]
        }
      ]
    },
    {
      "cell_type": "code",
      "source": [
        "# for-else statement\n",
        "successful = False\n",
        "for number in range(1, 4):\n",
        "  print(\"Attempt\", number, number * \".\")\n",
        "  if successful:\n",
        "    print(\"Successful\")\n",
        "    break\n",
        "else:\n",
        "  print(\"Attempted 3 times and failed\")"
      ],
      "metadata": {
        "colab": {
          "base_uri": "https://localhost:8080/"
        },
        "id": "9fFg9F4TdUZX",
        "outputId": "7fee25cf-687e-4638-a154-7c49f30a4535"
      },
      "execution_count": 9,
      "outputs": [
        {
          "output_type": "stream",
          "name": "stdout",
          "text": [
            "Attempt 1 .\n",
            "Attempt 2 ..\n",
            "Attempt 3 ...\n",
            "Attempted 3 times and failed\n"
          ]
        }
      ]
    },
    {
      "cell_type": "code",
      "source": [
        "#Nested Loops\n",
        "for x in range(5):\n",
        "  for y in range(3):\n",
        "    print(f\"({x}, {y})\") #printing formatted string"
      ],
      "metadata": {
        "colab": {
          "base_uri": "https://localhost:8080/"
        },
        "id": "OpBAcArnmYTO",
        "outputId": "a5fd0986-6054-4468-a2f6-8558f0b43af6"
      },
      "execution_count": 10,
      "outputs": [
        {
          "output_type": "stream",
          "name": "stdout",
          "text": [
            "(0, 0)\n",
            "(0, 1)\n",
            "(0, 2)\n",
            "(1, 0)\n",
            "(1, 1)\n",
            "(1, 2)\n",
            "(2, 0)\n",
            "(2, 1)\n",
            "(2, 2)\n",
            "(3, 0)\n",
            "(3, 1)\n",
            "(3, 2)\n",
            "(4, 0)\n",
            "(4, 1)\n",
            "(4, 2)\n"
          ]
        }
      ]
    },
    {
      "cell_type": "code",
      "source": [
        "# Iterables\n",
        "print(type(range(3))) # shows that the range function returns an object of type \"range\"\n",
        "# primitive types are numbers, strings, boolean\n",
        "# complex types e.g range\n",
        "# the range object it iterable. i.e. it can be iterated using a for loop"
      ],
      "metadata": {
        "colab": {
          "base_uri": "https://localhost:8080/"
        },
        "id": "Z850NrTIoHO1",
        "outputId": "62306f3d-1eda-4181-e55d-b5fb0b23ade1"
      },
      "execution_count": 11,
      "outputs": [
        {
          "output_type": "stream",
          "name": "stdout",
          "text": [
            "<class 'range'>\n"
          ]
        }
      ]
    },
    {
      "cell_type": "code",
      "source": [
        "# strings are also iterable objects\n",
        "for x in \"Python\":\n",
        "  print(x)"
      ],
      "metadata": {
        "colab": {
          "base_uri": "https://localhost:8080/"
        },
        "id": "A5fxhAFupFoI",
        "outputId": "111a6285-949d-4c89-e02e-ab68037aba9d"
      },
      "execution_count": 12,
      "outputs": [
        {
          "output_type": "stream",
          "name": "stdout",
          "text": [
            "P\n",
            "y\n",
            "t\n",
            "h\n",
            "o\n",
            "n\n"
          ]
        }
      ]
    },
    {
      "cell_type": "code",
      "source": [
        "#Another example of a complex type is the List object\n",
        "for x in [1, 2, 3, 4]:\n",
        "  print(x)"
      ],
      "metadata": {
        "colab": {
          "base_uri": "https://localhost:8080/"
        },
        "id": "UXSqGbbapTo7",
        "outputId": "77b2f2db-869c-417d-cb1f-dc2d659baacf"
      },
      "execution_count": 13,
      "outputs": [
        {
          "output_type": "stream",
          "name": "stdout",
          "text": [
            "1\n",
            "2\n",
            "3\n",
            "4\n"
          ]
        }
      ]
    },
    {
      "cell_type": "code",
      "source": [
        "# While Loop\n",
        "number = 100\n",
        "while number > 0:\n",
        "  print(number)\n",
        "  number //= 2"
      ],
      "metadata": {
        "colab": {
          "base_uri": "https://localhost:8080/"
        },
        "id": "qLjpF2K2pwVQ",
        "outputId": "f83a6320-e9a9-4b1c-df51-f97b05fbd9b7"
      },
      "execution_count": 14,
      "outputs": [
        {
          "output_type": "stream",
          "name": "stdout",
          "text": [
            "100\n",
            "50\n",
            "25\n",
            "12\n",
            "6\n",
            "3\n",
            "1\n"
          ]
        }
      ]
    },
    {
      "cell_type": "code",
      "source": [
        "command = \"\"\n",
        "while command.lower() != \"quit\":\n",
        "  command = input(\">\")\n",
        "  print(\"Echo\", command)\n",
        "\n",
        "# you can also use an infinite loop instead of initialising command variable to an empty string\n",
        "# while True:\n",
        "#   command = input(\">\")\n",
        "#   print(\"Echo\", command)\n",
        "#   if command.lower() = \"quit\":\n",
        "#     break"
      ],
      "metadata": {
        "colab": {
          "base_uri": "https://localhost:8080/"
        },
        "id": "JttTZodIl0Mq",
        "outputId": "5abbd1ee-9205-462f-cd57-14a5c10b8b28"
      },
      "execution_count": 2,
      "outputs": [
        {
          "output_type": "stream",
          "name": "stdout",
          "text": [
            ">hello\n",
            "Echo hello\n",
            ">QUIT\n",
            "Echo QUIT\n"
          ]
        }
      ]
    },
    {
      "cell_type": "code",
      "source": [
        "print(10 // 3)\n",
        "print(10 % 3) #modulus"
      ],
      "metadata": {
        "colab": {
          "base_uri": "https://localhost:8080/"
        },
        "id": "2Dcca0FipEE_",
        "outputId": "bceb3904-058b-4054-e50a-8358e52390c5"
      },
      "execution_count": 3,
      "outputs": [
        {
          "output_type": "stream",
          "name": "stdout",
          "text": [
            "3\n",
            "1\n"
          ]
        }
      ]
    },
    {
      "cell_type": "code",
      "source": [
        "# print the even numbers between 1 and 10\n",
        "even_count = 0\n",
        "for num in range(1,10):\n",
        "  #print(num)\n",
        "  if (num % 2) == 0:\n",
        "    print(num)\n",
        "    even_count += 1\n",
        "print(f\"There are {even_count} even numbers between 1 and 10\")"
      ],
      "metadata": {
        "colab": {
          "base_uri": "https://localhost:8080/"
        },
        "id": "Bho11UU_n9Um",
        "outputId": "d408bcdc-9cd0-4a45-c1c2-39d6b4702a62"
      },
      "execution_count": 5,
      "outputs": [
        {
          "output_type": "stream",
          "name": "stdout",
          "text": [
            "2\n",
            "4\n",
            "6\n",
            "8\n",
            "There are 4 even numbers between 1 and 10\n"
          ]
        }
      ]
    },
    {
      "cell_type": "markdown",
      "source": [
        "# Defining Functions"
      ],
      "metadata": {
        "id": "-bUNIkmLqtmK"
      }
    },
    {
      "cell_type": "code",
      "source": [
        "# define a function that performs a task\n",
        "def greet(first_name, last_name):\n",
        "  print(f\"Hi {first_name} {last_name}\")\n",
        "  print(\"Welcome aboard\")\n",
        "\n",
        "\n",
        "greet(\"Sankar\", \"Ramamurthy\")"
      ],
      "metadata": {
        "colab": {
          "base_uri": "https://localhost:8080/"
        },
        "id": "eA9wygWAqykb",
        "outputId": "04909d92-2ba4-432e-f4cf-42ad3bc37d78"
      },
      "execution_count": 9,
      "outputs": [
        {
          "output_type": "stream",
          "name": "stdout",
          "text": [
            "Hi Sankar Ramamurthy\n",
            "Welcome aboard\n"
          ]
        }
      ]
    },
    {
      "cell_type": "code",
      "source": [
        "# define a function that returns a variable\n",
        "def get_greeting(first_name, last_name):\n",
        "  return f\"Hi {first_name} {last_name} !\"\n",
        "\n",
        "\n",
        "message = get_greeting(\"Sankar\", \"Ramamurthy\")\n",
        "print(message)\n",
        "file = open(\"content.txt\", \"w\")\n",
        "file.write(message)"
      ],
      "metadata": {
        "colab": {
          "base_uri": "https://localhost:8080/"
        },
        "id": "FeMcyXzItMfA",
        "outputId": "2e8eadc2-1adc-495a-d136-fb92fbd6e72e"
      },
      "execution_count": 12,
      "outputs": [
        {
          "output_type": "stream",
          "name": "stdout",
          "text": [
            "Hi Sankar Ramamurthy !\n"
          ]
        },
        {
          "output_type": "execute_result",
          "data": {
            "text/plain": [
              "22"
            ]
          },
          "metadata": {},
          "execution_count": 12
        }
      ]
    },
    {
      "cell_type": "code",
      "source": [
        "# function with optional parameter\n",
        "def increment(number, by=1): # all the optional parameters should come after the required parameters\n",
        "  return number + by\n",
        "\n",
        "\n",
        "print(increment(2, by=1))\n",
        "print(increment(2))\n",
        "print(increment(2, by=5))"
      ],
      "metadata": {
        "colab": {
          "base_uri": "https://localhost:8080/"
        },
        "id": "70-Zh_QNv7hI",
        "outputId": "11000c87-17d1-4173-96b6-47da68d92055"
      },
      "execution_count": 15,
      "outputs": [
        {
          "output_type": "stream",
          "name": "stdout",
          "text": [
            "3\n",
            "3\n",
            "7\n"
          ]
        }
      ]
    },
    {
      "cell_type": "code",
      "source": [
        "# fucntion that takes a variable number of arguments\n",
        "def multiply(*numbers): #here, numbers is a type Tuple. Tuples are different from Lists in that you cannot modify a Tuple\n",
        "  total = 1\n",
        "  for number in numbers:\n",
        "    total *= number\n",
        "  return total\n",
        "\n",
        "\n",
        "print(multiply(2, 3, 4, 5))"
      ],
      "metadata": {
        "colab": {
          "base_uri": "https://localhost:8080/"
        },
        "id": "Ras_uoYOx0J1",
        "outputId": "42f55f0e-bd0b-4a5b-d298-a2a0ce9002d8"
      },
      "execution_count": 18,
      "outputs": [
        {
          "output_type": "stream",
          "name": "stdout",
          "text": [
            "120\n"
          ]
        }
      ]
    }
  ]
}