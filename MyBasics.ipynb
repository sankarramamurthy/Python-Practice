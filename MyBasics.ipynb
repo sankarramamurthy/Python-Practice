{
  "nbformat": 4,
  "nbformat_minor": 0,
  "metadata": {
    "colab": {
      "provenance": [],
      "authorship_tag": "ABX9TyMMZM1JW2d9qSul+w18Q7Eg",
      "include_colab_link": true
    },
    "kernelspec": {
      "name": "python3",
      "display_name": "Python 3"
    },
    "language_info": {
      "name": "python"
    }
  },
  "cells": [
    {
      "cell_type": "markdown",
      "metadata": {
        "id": "view-in-github",
        "colab_type": "text"
      },
      "source": [
        "<a href=\"https://colab.research.google.com/github/sankarramamurthy/Python-Practice/blob/master/MyBasics.ipynb\" target=\"_parent\"><img src=\"https://colab.research.google.com/assets/colab-badge.svg\" alt=\"Open In Colab\"/></a>"
      ]
    },
    {
      "cell_type": "markdown",
      "source": [
        "# Introduction\n",
        "This is Sankar's notebook for learning the basics of Python"
      ],
      "metadata": {
        "id": "3Ji-uoCbEulQ"
      }
    },
    {
      "cell_type": "code",
      "execution_count": null,
      "metadata": {
        "colab": {
          "base_uri": "https://localhost:8080/"
        },
        "id": "uD9H0cSIEO3U",
        "outputId": "d1276f23-58bd-49b0-9406-8f3621a49e59"
      },
      "outputs": [
        {
          "output_type": "stream",
          "name": "stdout",
          "text": [
            "Hello World!\n"
          ]
        }
      ],
      "source": [
        "print(\"Hello World!\")"
      ]
    },
    {
      "cell_type": "markdown",
      "source": [
        "# Expressions"
      ],
      "metadata": {
        "id": "S_3qSYG_Dpxg"
      }
    },
    {
      "cell_type": "code",
      "source": [
        "#Expressions\n",
        "20 + 30"
      ],
      "metadata": {
        "colab": {
          "base_uri": "https://localhost:8080/"
        },
        "id": "SH9RwF76DSKP",
        "outputId": "98197a7a-ca2e-4342-cef8-9d98397250df"
      },
      "execution_count": 5,
      "outputs": [
        {
          "output_type": "execute_result",
          "data": {
            "text/plain": [
              "50"
            ]
          },
          "metadata": {},
          "execution_count": 5
        }
      ]
    },
    {
      "cell_type": "code",
      "source": [
        "\"*\" * 50"
      ],
      "metadata": {
        "colab": {
          "base_uri": "https://localhost:8080/",
          "height": 35
        },
        "id": "dbdazPNpDijk",
        "outputId": "5ac17097-54e7-4239-cc55-81c980919666"
      },
      "execution_count": 6,
      "outputs": [
        {
          "output_type": "execute_result",
          "data": {
            "text/plain": [
              "'**************************************************'"
            ],
            "application/vnd.google.colaboratory.intrinsic+json": {
              "type": "string"
            }
          },
          "metadata": {},
          "execution_count": 6
        }
      ]
    },
    {
      "cell_type": "markdown",
      "source": [
        "# Variables and Types"
      ],
      "metadata": {
        "id": "n3Qx6IRqD9fs"
      }
    },
    {
      "cell_type": "code",
      "source": [
        "#It is a best practice to use lower case for variables; use _ to separate two parts of a variable name\n",
        "#Integer getting assigned to a variable\n",
        "students_count = 1000\n",
        "\n",
        "#Float getting assigned to a variable\n",
        "rating = 4.99\n",
        "\n",
        "#Boolean getting assigned to a variable\n",
        "is_published = True\n",
        "\n",
        "#String getting assigned to a variable\n",
        "course_name = \"Python Programming\"\n",
        "\n",
        "#Usage of triple quotes\n",
        "message = \"\"\"\n",
        "Hi John,\n",
        "\n",
        "Hello, how are you?\n",
        "blah blah blah.....\n",
        "\n",
        "Thanks\n",
        "\"\"\""
      ],
      "metadata": {
        "id": "da5pt_5xCRJd"
      },
      "execution_count": 8,
      "outputs": []
    },
    {
      "cell_type": "markdown",
      "source": [
        "# String Functions"
      ],
      "metadata": {
        "id": "_USADNopFlUN"
      }
    },
    {
      "cell_type": "code",
      "source": [
        "print(len(course_name))\n",
        "print(course_name[0])\n",
        "print(course_name[-1])\n",
        "print(course_name[0:3])"
      ],
      "metadata": {
        "colab": {
          "base_uri": "https://localhost:8080/"
        },
        "id": "PqUScUmtFji9",
        "outputId": "6e813162-ea16-4a01-8d1c-6976bc059046"
      },
      "execution_count": 13,
      "outputs": [
        {
          "output_type": "stream",
          "name": "stdout",
          "text": [
            "18\n",
            "P\n",
            "g\n",
            "Pyt\n"
          ]
        }
      ]
    },
    {
      "cell_type": "code",
      "source": [
        "#If you want to include a double quote within a string, you should use a back-slash or escape character\n",
        "course = \"Basic \\\"Python\\\" Programming\"\n",
        "print(course)\n",
        "# \\\" is called an escape sequence. Another example of an escape sequence is \\\\ i.e. if you want a string that contains a back slash\n",
        "# another eg of an escape sequence is \\n which will insert a new line"
      ],
      "metadata": {
        "colab": {
          "base_uri": "https://localhost:8080/"
        },
        "id": "vv-ba_LXHLsF",
        "outputId": "f0b26865-736d-4744-e3ce-87d8a3521cce"
      },
      "execution_count": 15,
      "outputs": [
        {
          "output_type": "stream",
          "name": "stdout",
          "text": [
            "Basic \"Python\" Programming\n"
          ]
        }
      ]
    },
    {
      "cell_type": "code",
      "source": [
        "x = 20\n",
        "y = 30\n",
        "z = x + y\n",
        "print(\"The sum of \" + str(x) + \" and \" + str(y) + \" is \" + str(z))"
      ],
      "metadata": {
        "colab": {
          "base_uri": "https://localhost:8080/"
        },
        "id": "nOJalAVSFsNI",
        "outputId": "d756c91f-b7c0-445a-fac3-2aba9ed09191"
      },
      "execution_count": null,
      "outputs": [
        {
          "output_type": "stream",
          "name": "stdout",
          "text": [
            "The sum of 20 and 30 is 50\n"
          ]
        }
      ]
    }
  ]
}