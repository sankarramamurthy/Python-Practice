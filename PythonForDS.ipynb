{
  "nbformat": 4,
  "nbformat_minor": 0,
  "metadata": {
    "colab": {
      "provenance": [],
      "authorship_tag": "ABX9TyOMSUtl3vfAS6l5S/UcdmRi",
      "include_colab_link": true
    },
    "kernelspec": {
      "name": "python3",
      "display_name": "Python 3"
    },
    "language_info": {
      "name": "python"
    }
  },
  "cells": [
    {
      "cell_type": "markdown",
      "metadata": {
        "id": "view-in-github",
        "colab_type": "text"
      },
      "source": [
        "<a href=\"https://colab.research.google.com/github/sankarramamurthy/Python-Practice/blob/master/PythonForDS.ipynb\" target=\"_parent\"><img src=\"https://colab.research.google.com/assets/colab-badge.svg\" alt=\"Open In Colab\"/></a>"
      ]
    },
    {
      "cell_type": "markdown",
      "source": [
        "# Types"
      ],
      "metadata": {
        "id": "RxoeJ_I-2J23"
      }
    },
    {
      "cell_type": "code",
      "execution_count": null,
      "metadata": {
        "colab": {
          "base_uri": "https://localhost:8080/"
        },
        "id": "kB9fLH1g1ivv",
        "outputId": "9c42631c-caca-4a5b-fa1c-88db9822aa21"
      },
      "outputs": [
        {
          "output_type": "stream",
          "name": "stdout",
          "text": [
            "2.0\n",
            "1\n",
            "1\n",
            "1\n",
            "False\n"
          ]
        }
      ],
      "source": [
        "#There are 3 native Types in Python\n",
        "# int - Integers, float - Decimals, str - Strings, Boolean - True/False\n",
        "# Integers can be +ve or -ve\n",
        "# typecasting is used to convert from one type to another\n",
        "print(float(2))\n",
        "print(int(1.1))\n",
        "print(int('1'))\n",
        "# print(int('A')) -- This will result in an error\n",
        "print(int(True))\n",
        "print(bool(0))"
      ]
    },
    {
      "cell_type": "markdown",
      "source": [
        "# Lists and Tuples"
      ],
      "metadata": {
        "id": "mxLZjCL7G5BN"
      }
    },
    {
      "cell_type": "code",
      "source": [
        "# Tuples are an ordered sequence; comma-separated elements within paranthesis\n",
        "# A Tuple can contain elements of multiple Types\n",
        "# Tuples are immutable i.e. we cannot change the individual elements of a Tuple\n",
        "ratings = (3, 2, 4, 1)\n",
        "# ratings = sorted(ratings) -- this wont work\n",
        "ratings_sorted = sorted(ratings)\n",
        "print(ratings)\n",
        "print(ratings_sorted)\n",
        "\n",
        "# adding two tuples will create a tuple containing all the elements\n",
        "ratings1 = (1, 2, 3, 4)\n",
        "ratings2 = (5, 6, 7, 8)\n",
        "print(ratings1 + ratings2)\n",
        "\n",
        "# a Tuple can contain nested Tuples\n",
        "nested_tuple = (1, 2, (\"pop\", \"rock\"), (3, 4), (\"disco\", (1, 2)))\n",
        "print(nested_tuple[2][0])\n",
        "print(nested_tuple[2][1][0])"
      ],
      "metadata": {
        "id": "-UAjQfb8G9IQ",
        "colab": {
          "base_uri": "https://localhost:8080/"
        },
        "outputId": "6598d7b7-c232-43c6-815a-8c3f2bb0425c"
      },
      "execution_count": null,
      "outputs": [
        {
          "output_type": "stream",
          "name": "stdout",
          "text": [
            "(3, 2, 4, 1)\n",
            "[1, 2, 3, 4]\n",
            "(1, 2, 3, 4, 5, 6, 7, 8)\n",
            "pop\n",
            "r\n"
          ]
        }
      ]
    },
    {
      "cell_type": "code",
      "source": [
        "# Lists are also an ordered sequence; represented by Square brackets\n",
        "# Lists are mutable\n",
        "my_list = [2, 3, 4, 5]\n",
        "print(my_list)\n",
        "my_list.extend([5, 6, 7])\n",
        "print(my_list)\n",
        "my_list.append(8)\n",
        "print(my_list)\n",
        "my_list[1] = \"x\"\n",
        "print(my_list)\n",
        "del(my_list[3])\n",
        "print(my_list)"
      ],
      "metadata": {
        "colab": {
          "base_uri": "https://localhost:8080/"
        },
        "id": "sOZvEAIKtNre",
        "outputId": "b7ef4d36-cd4d-4356-bb0e-509e9cf45085"
      },
      "execution_count": null,
      "outputs": [
        {
          "output_type": "stream",
          "name": "stdout",
          "text": [
            "[2, 3, 4, 5]\n",
            "[2, 3, 4, 5, 5, 6, 7]\n",
            "[2, 3, 4, 5, 5, 6, 7, 8]\n",
            "[2, 'x', 4, 5, 5, 6, 7, 8]\n",
            "[2, 'x', 4, 5, 6, 7, 8]\n"
          ]
        }
      ]
    },
    {
      "cell_type": "code",
      "source": [
        "# Converting string to list\n",
        "print(\"hard rock\".split()) #space is used as the separator by default\n",
        "print(\"A,B,C,D\".split(\",\")) # \",\" is the delimiter"
      ],
      "metadata": {
        "colab": {
          "base_uri": "https://localhost:8080/"
        },
        "id": "GAPYRfu6vNgr",
        "outputId": "af2a6a5d-1fc4-459a-fb1a-f47a41913470"
      },
      "execution_count": null,
      "outputs": [
        {
          "output_type": "stream",
          "name": "stdout",
          "text": [
            "['hard', 'rock']\n",
            "['A', 'B', 'C', 'D']\n"
          ]
        }
      ]
    },
    {
      "cell_type": "code",
      "source": [
        "# List aliasing\n",
        "A = [\"A\", \"B\", \"C\", \"D\"]\n",
        "B = A\n",
        "print(A)\n",
        "print(B)\n",
        "A[1] = 2\n",
        "print(A)\n",
        "print(B)"
      ],
      "metadata": {
        "colab": {
          "base_uri": "https://localhost:8080/"
        },
        "id": "0MiJQfYcvxA7",
        "outputId": "9fb63edf-8228-4a82-f7cf-c311681e07a1"
      },
      "execution_count": null,
      "outputs": [
        {
          "output_type": "stream",
          "name": "stdout",
          "text": [
            "['A', 'B', 'C', 'D']\n",
            "['A', 'B', 'C', 'D']\n",
            "['A', 2, 'C', 'D']\n",
            "['A', 2, 'C', 'D']\n"
          ]
        }
      ]
    },
    {
      "cell_type": "code",
      "source": [
        "# Clone one list from another\n",
        "# in this case, changing A will not change C\n",
        "C = A[:]\n",
        "A[2] = 3\n",
        "print(A)\n",
        "print(C)"
      ],
      "metadata": {
        "colab": {
          "base_uri": "https://localhost:8080/"
        },
        "id": "omhEGXkhwR2X",
        "outputId": "42041613-fdf6-401a-b412-f3527f721a2a"
      },
      "execution_count": null,
      "outputs": [
        {
          "output_type": "stream",
          "name": "stdout",
          "text": [
            "['A', 2, 3, 'D']\n",
            "['A', 2, 'C', 'D']\n"
          ]
        }
      ]
    },
    {
      "cell_type": "markdown",
      "source": [
        "# Dictionary"
      ],
      "metadata": {
        "id": "Lx2f9pgdwtvG"
      }
    },
    {
      "cell_type": "code",
      "source": [
        "# It is a type of collection that has Keys and Values\n",
        "# The keys have to be immutable & unique. Each key is follwed by a vlue, separated by a :\n",
        "Dict = {\"Thriller\": 1982, \"Back in Black\": 1980, \"The dark side of moon\": 1983, \"The Bodyguard\": 1992}\n",
        "print(Dict[\"Thriller\"])\n",
        "del(Dict[\"Thriller\"])\n",
        "print(Dict)\n",
        "print(\"Back in Black\" in Dict) #will return True if the Key exists in the dictionary\n",
        "print(Dict.keys()) #will return all the keys in the dictionary as a List\n",
        "print(Dict.values()) #will return all the values in the dictionary as a List"
      ],
      "metadata": {
        "id": "aXCacCGNwwaC",
        "colab": {
          "base_uri": "https://localhost:8080/"
        },
        "outputId": "f149c983-5239-47f9-b5d7-54cfcdb9f57c"
      },
      "execution_count": 6,
      "outputs": [
        {
          "output_type": "stream",
          "name": "stdout",
          "text": [
            "1982\n",
            "{'Back in Black': 1980, 'The dark side of moon': 1983, 'The Bodyguard': 1992}\n",
            "True\n",
            "dict_keys(['Back in Black', 'The dark side of moon', 'The Bodyguard'])\n",
            "dict_values([1980, 1983, 1992])\n"
          ]
        }
      ]
    },
    {
      "cell_type": "markdown",
      "source": [
        "# Sets"
      ],
      "metadata": {
        "id": "tRR-clTnUWBS"
      }
    },
    {
      "cell_type": "code",
      "source": [
        "# Sets are also a type of collection\n",
        "# unlike lists and tuples, they're un-ordered. i.e. sets do not record element position\n",
        "# they can only have unique elements\n",
        "set1 = {\"A\", \"A\"}\n",
        "print(set1) #Will have only one \"A\"\n",
        "set1.add(\"B\")\n",
        "print(set1)\n",
        "set2 = {\"B\", \"C\"}\n",
        "set3 = set1.union(set2)\n",
        "print(set3)"
      ],
      "metadata": {
        "colab": {
          "base_uri": "https://localhost:8080/"
        },
        "id": "d2KX-sZHUYNM",
        "outputId": "6e640d03-0e14-4c80-a73b-837627d743d7"
      },
      "execution_count": 9,
      "outputs": [
        {
          "output_type": "stream",
          "name": "stdout",
          "text": [
            "{'A'}\n",
            "{'A', 'B'}\n",
            "{'A', 'C', 'B'}\n"
          ]
        }
      ]
    },
    {
      "cell_type": "markdown",
      "source": [
        "# Functions"
      ],
      "metadata": {
        "id": "QU4WrCKxknG8"
      }
    },
    {
      "cell_type": "code",
      "source": [
        "# Functions Vs Methods\n",
        "L1 = [1, 3, 2]\n",
        "L2 = sorted(L1) # sorted is a function and it returns the sorted value of the list argument and the returned value gets stored in a new variable L2. So there is no change to L1\n",
        "print(L1)\n",
        "print(L2)\n",
        "L1.sort() #sort is a method of type List and it sorts the list variable L1. It does not create a new list\n",
        "print(L1)\n",
        "L1.reverse() #reverses the order of elements in the list\n",
        "print(L1)"
      ],
      "metadata": {
        "colab": {
          "base_uri": "https://localhost:8080/"
        },
        "id": "WyjN6zaBkwVj",
        "outputId": "ef1bb9b2-3baf-41db-ede1-539576a43fa6"
      },
      "execution_count": 3,
      "outputs": [
        {
          "output_type": "stream",
          "name": "stdout",
          "text": [
            "[1, 3, 2]\n",
            "[1, 2, 3]\n",
            "[1, 2, 3]\n",
            "[3, 2, 1]\n"
          ]
        }
      ]
    }
  ]
}